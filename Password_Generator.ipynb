{
 "cells": [
  {
   "cell_type": "markdown",
   "id": "01eff459",
   "metadata": {},
   "source": [
    "Generate a python program which rates a password in 3 levels – 1 being lowest and 3 being highest. If the password contains (small caps + Number + Uppercap + Special character) then it is 3 level, if it contains only 1 type of element it is 1 level, else 2, minimum length of password is 8."
   ]
  },
  {
   "cell_type": "code",
   "execution_count": 2,
   "id": "e95c42b4",
   "metadata": {},
   "outputs": [
    {
     "name": "stdout",
     "output_type": "stream",
     "text": [
      "Enter a password to rate: Zainab1511\n",
      "Moderate password.\n"
     ]
    }
   ],
   "source": [
    "import re\n",
    "\n",
    "def rate_password(password):\n",
    "    \"\"\"\n",
    "    Rates a password based on its strength.\n",
    "\n",
    "    password: string, the password to rate.\n",
    "    returns: integer, the strength rating of the password (1 to 3).\n",
    "    \"\"\"\n",
    "    # Check if password meets minimum length requirement.\n",
    "    if len(password) < 8:\n",
    "        return 1\n",
    "\n",
    "    # Check if password contains all required character types.\n",
    "    if all(re.search(pattern, password) for pattern in [r\"[a-z]\", r\"[A-Z]\", r\"\\d\", r\"\\W\"]):\n",
    "        return 3\n",
    "\n",
    "    # If password doesn't meet level 3 requirements but contains more than one type of character.\n",
    "    if any(re.search(pattern, password) for pattern in [r\"[a-z]\", r\"[A-Z]\", r\"\\d\", r\"\\W\"]):\n",
    "        return 2\n",
    "\n",
    "    # If password only contains one type of character.\n",
    "    return 1\n",
    "\n",
    "# Prompt the user to enter a password.\n",
    "password = input(\"Enter a password to rate: \")\n",
    "\n",
    "# Rate the password.\n",
    "rating = rate_password(password)\n",
    "\n",
    "# Print the result.\n",
    "if rating == 1:\n",
    "    print(\"Weak password.\")\n",
    "elif rating == 2:\n",
    "    print(\"Moderate password.\")\n",
    "elif rating == 3:\n",
    "    print(\"Strong password!\")\n"
   ]
  },
  {
   "cell_type": "code",
   "execution_count": null,
   "id": "c4b0e8f6",
   "metadata": {},
   "outputs": [],
   "source": []
  }
 ],
 "metadata": {
  "kernelspec": {
   "display_name": "Python 3 (ipykernel)",
   "language": "python",
   "name": "python3"
  },
  "language_info": {
   "codemirror_mode": {
    "name": "ipython",
    "version": 3
   },
   "file_extension": ".py",
   "mimetype": "text/x-python",
   "name": "python",
   "nbconvert_exporter": "python",
   "pygments_lexer": "ipython3",
   "version": "3.9.13"
  }
 },
 "nbformat": 4,
 "nbformat_minor": 5
}
